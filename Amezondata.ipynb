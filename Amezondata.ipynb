{
  "nbformat": 4,
  "nbformat_minor": 0,
  "metadata": {
    "colab": {
      "provenance": [],
      "authorship_tag": "ABX9TyPTRa9qAqyCUBQX2c8/R5f3",
      "include_colab_link": true
    },
    "kernelspec": {
      "name": "python3",
      "display_name": "Python 3"
    },
    "language_info": {
      "name": "python"
    }
  },
  "cells": [
    {
      "cell_type": "markdown",
      "metadata": {
        "id": "view-in-github",
        "colab_type": "text"
      },
      "source": [
        "<a href=\"https://colab.research.google.com/github/Dnyaneshwar-zukle/web-scraper/blob/main/Amezondata.ipynb\" target=\"_parent\"><img src=\"https://colab.research.google.com/assets/colab-badge.svg\" alt=\"Open In Colab\"/></a>"
      ]
    },
    {
      "cell_type": "code",
      "execution_count": 4,
      "metadata": {
        "colab": {
          "base_uri": "https://localhost:8080/"
        },
        "id": "y-e5PERw3q2b",
        "outputId": "0d664fa4-6b5a-4264-c1f9-36d1810150e8"
      },
      "outputs": [
        {
          "output_type": "stream",
          "name": "stdout",
          "text": [
            "Collecting autoscraper\n",
            "  Downloading autoscraper-1.1.14-py3-none-any.whl (10 kB)\n",
            "Requirement already satisfied: requests in /usr/local/lib/python3.10/dist-packages (from autoscraper) (2.27.1)\n",
            "Collecting bs4 (from autoscraper)\n",
            "  Downloading bs4-0.0.1.tar.gz (1.1 kB)\n",
            "  Preparing metadata (setup.py) ... \u001b[?25l\u001b[?25hdone\n",
            "Requirement already satisfied: lxml in /usr/local/lib/python3.10/dist-packages (from autoscraper) (4.9.3)\n",
            "Requirement already satisfied: beautifulsoup4 in /usr/local/lib/python3.10/dist-packages (from bs4->autoscraper) (4.11.2)\n",
            "Requirement already satisfied: urllib3<1.27,>=1.21.1 in /usr/local/lib/python3.10/dist-packages (from requests->autoscraper) (1.26.16)\n",
            "Requirement already satisfied: certifi>=2017.4.17 in /usr/local/lib/python3.10/dist-packages (from requests->autoscraper) (2023.7.22)\n",
            "Requirement already satisfied: charset-normalizer~=2.0.0 in /usr/local/lib/python3.10/dist-packages (from requests->autoscraper) (2.0.12)\n",
            "Requirement already satisfied: idna<4,>=2.5 in /usr/local/lib/python3.10/dist-packages (from requests->autoscraper) (3.4)\n",
            "Requirement already satisfied: soupsieve>1.2 in /usr/local/lib/python3.10/dist-packages (from beautifulsoup4->bs4->autoscraper) (2.4.1)\n",
            "Building wheels for collected packages: bs4\n",
            "  Building wheel for bs4 (setup.py) ... \u001b[?25l\u001b[?25hdone\n",
            "  Created wheel for bs4: filename=bs4-0.0.1-py3-none-any.whl size=1256 sha256=b56a8905a3b2efc15376441a556e54206157f9cd33bd74a8fa8603de5df264fd\n",
            "  Stored in directory: /root/.cache/pip/wheels/25/42/45/b773edc52acb16cd2db4cf1a0b47117e2f69bb4eb300ed0e70\n",
            "Successfully built bs4\n",
            "Installing collected packages: bs4, autoscraper\n",
            "Successfully installed autoscraper-1.1.14 bs4-0.0.1\n"
          ]
        }
      ],
      "source": [
        "!pip install autoscraper\n",
        "from autoscraper import AutoScraper"
      ]
    },
    {
      "cell_type": "code",
      "source": [
        "amezon_url = 'https://www.amazon.in/s?k=bags&ref=nb_sb_noss'"
      ],
      "metadata": {
        "id": "pcfBT4A-39b8"
      },
      "execution_count": 5,
      "outputs": []
    },
    {
      "cell_type": "code",
      "source": [
        "wanted_list=['₹669','Skybags Brat Black 46 Cms Casual Backpack',' 5,308']"
      ],
      "metadata": {
        "id": "xgClRiVL4_lW"
      },
      "execution_count": 7,
      "outputs": []
    },
    {
      "cell_type": "code",
      "source": [
        "scraper = AutoScraper()\n",
        "result=scraper.build(amezon_url,wanted_list)\n",
        "print(result)"
      ],
      "metadata": {
        "colab": {
          "base_uri": "https://localhost:8080/"
        },
        "id": "GDSdtgUy5X34",
        "outputId": "428a887f-4531-4f20-b243-b5b45e24d5f0"
      },
      "execution_count": 11,
      "outputs": [
        {
          "output_type": "stream",
          "name": "stdout",
          "text": [
            "['₹669', '₹1,199', '₹649', '₹550', '₹689', '₹679', '₹849', '₹599', '₹1,299', '₹1,125', '₹399', '₹987', '₹799', 'Amazon\\'s Choicefor \"bags\"', 'Skybags Brat Black 46 Cms Casual Backpack', 'American Tourister Fizz Large Size 32 Ltrs Casual Backpack (BLACK)', 'Half Moon 35 Ltrs Water Resistant 15.6 inch Laptop Bag for Men/Backpack for Men, Navy Blue | Office Bag for Men/Office Bag for Women with Padded Laptop Compartment | Rain Cover & Reflective Strips', 'Wesley Milestone 2.0 Casual Waterproof Laptop Backpack/Office Bag/School Bag/College Bag/Business Bag/Travel Backpack (Dimensions:13x18 inches) (Compatible with 39.62cm(15.6inch laptop) 30 L (Blue & black)', 'TRUE HUMAN EMPEROR® Anti-Theft backpack With USB charging Port Laptop bag/Office bag/college bag/travel bag with anti -theft back pocket (LEGEND)', 'FUR JADEN Anti Theft Number Lock Backpack Bag with 15.6 Inch Laptop Compartment, USB Charging Port & Organizer Pocket for Men Women Boys Girls', 'Half Moon Large 37L Laptop Bag Backpack for menं Women Boys and Girls Luggage Travel Bags with 17.3 inches Laptop Compartment & Rain Cover', 'WILDHORN 31L Laptop Backpack for Men/Women I Fits upto 15.6\" Laptop I Waterproof I Travel/Business/College Bookbags', 'Red Lemon Swisslook Polyester Bange Series 45L 15.6-inch Laptop Bags Backpack for Men and Women Semi Waterproof USB with Anti Theft Pocket Travel Backpack', 'Best sellerin Laptop Backpacks', 'American Tourister VALEX BLACK LAPTOP BACKPACK 28 Ltrs,Volume, LAPTOP COMPARTMENT, BOTTLE POCKET, FRONT ORGANIZER', 'Gear Cello 30 Ltrs Black Laptop Backpack (LBPASPIRE0104)', 'ADISA 31 Ltrs Casual Backpack School College Bag Pack', 'Gear Classic 20L Small Size Faux Leather Water Resistant Anti Theft Unisex Laptop Backpack- Brown', 'Best sellerin Rucksacks & Trekking Backpacks', 'Fur Jaden 55 LTR Rucksack Travel Backpack Bag for Trekking, Hiking with Shoe Compartment', 'Safari Flash Casual Backpack, 26 ltr Water Resistant Travel Bags| Weight Polyester Bagpack for Men and Women, Spacious Shoulder Bag for College, Office, Travelling and Camping', 'Half Moon 35 Ltrs Water Resistant 15.6 inch Laptop Bag for Men/Backpack for Men, Navy Blue | Office Bag for Men/Office Bag...', 'Wesley Milestone 2.0 Casual Waterproof Laptop Backpack/Office Bag/School Bag/College Bag/Business Bag/Travel Backpack (Dim...', 'TRUE HUMAN EMPEROR® Anti-Theft backpack With USB charging Port Laptop bag/Office bag/college bag/travel bag with anti -the...', 'FUR JADEN Anti Theft Number Lock Backpack Bag with 15.6 Inch Laptop Compartment, USB Charging Port & Organizer Pocket for ...', 'Half Moon Large 37L Laptop Bag Backpack for menं Women Boys and Girls Luggage Travel Bags with 17.3 inches Laptop Compartm...', 'WILDHORN 31L Laptop Backpack for Men/Women I Fits upto 15.6', 'Red Lemon Swisslook Polyester Bange Series 45L 15.6-inch Laptop Bags Backpack for Men and Women Semi Waterproof USB with A...', 'Safari Flash Casual Backpack, 26 ltr Water Resistant Travel Bags| Weight Polyester Bagpack for Men and Women, Spacious Sho...', '5,308', '54,967', '16,710', '12,003', '2,366', '5,056', '3,311', '1,490', '1,725', '651', '5,992', '154', '5,962', '5,515', '3,028']\n"
          ]
        }
      ]
    },
    {
      "cell_type": "code",
      "source": [
        "scraper.get_result_similar(amezon_url,grouped=True)"
      ],
      "metadata": {
        "colab": {
          "base_uri": "https://localhost:8080/"
        },
        "id": "FUy9V0ah5wcP",
        "outputId": "f68a300c-012f-4c08-a9db-e6077290f5e3"
      },
      "execution_count": 13,
      "outputs": [
        {
          "output_type": "execute_result",
          "data": {
            "text/plain": [
              "{'rule_2qvy': ['₹669',\n",
              "  '₹1,199',\n",
              "  '₹649',\n",
              "  '₹550',\n",
              "  '₹689',\n",
              "  '₹679',\n",
              "  '₹849',\n",
              "  '₹599',\n",
              "  '₹1,299',\n",
              "  '₹1,125',\n",
              "  '₹679',\n",
              "  '₹399',\n",
              "  '₹987',\n",
              "  '₹849',\n",
              "  '₹799'],\n",
              " 'rule_l17u': ['₹669',\n",
              "  '₹1,199',\n",
              "  '₹649',\n",
              "  '₹550',\n",
              "  '₹689',\n",
              "  '₹679',\n",
              "  '₹849',\n",
              "  '₹599',\n",
              "  '₹1,299',\n",
              "  '₹1,125',\n",
              "  '₹679',\n",
              "  '₹399',\n",
              "  '₹987',\n",
              "  '₹849',\n",
              "  '₹799'],\n",
              " 'rule_f91u': ['Amazon\\'s Choicefor \"bags\"',\n",
              "  'Skybags Brat Black 46 Cms Casual Backpack',\n",
              "  'American Tourister Fizz Large Size 32 Ltrs Casual Backpack (BLACK)',\n",
              "  'Half Moon 35 Ltrs Water Resistant 15.6 inch Laptop Bag for Men/Backpack for Men, Navy Blue | Office Bag for Men/Office Bag for Women with Padded Laptop Compartment | Rain Cover & Reflective Strips',\n",
              "  'Wesley Milestone 2.0 Casual Waterproof Laptop Backpack/Office Bag/School Bag/College Bag/Business Bag/Travel Backpack (Dimensions:13x18 inches) (Compatible with 39.62cm(15.6inch laptop) 30 L (Blue & black)',\n",
              "  'TRUE HUMAN EMPEROR® Anti-Theft backpack With USB charging Port Laptop bag/Office bag/college bag/travel bag with anti -theft back pocket (LEGEND)',\n",
              "  'FUR JADEN Anti Theft Number Lock Backpack Bag with 15.6 Inch Laptop Compartment, USB Charging Port & Organizer Pocket for Men Women Boys Girls',\n",
              "  'Half Moon Large 37L Laptop Bag Backpack for menं Women Boys and Girls Luggage Travel Bags with 17.3 inches Laptop Compartment & Rain Cover',\n",
              "  'WILDHORN 31L Laptop Backpack for Men/Women I Fits upto 15.6\" Laptop I Waterproof I Travel/Business/College Bookbags',\n",
              "  'Red Lemon Swisslook Polyester Bange Series 45L 15.6-inch Laptop Bags Backpack for Men and Women Semi Waterproof USB with Anti Theft Pocket Travel Backpack',\n",
              "  'Best sellerin Laptop Backpacks',\n",
              "  'American Tourister VALEX BLACK LAPTOP BACKPACK 28 Ltrs,Volume, LAPTOP COMPARTMENT, BOTTLE POCKET, FRONT ORGANIZER',\n",
              "  'Gear Cello 30 Ltrs Black Laptop Backpack (LBPASPIRE0104)',\n",
              "  'FUR JADEN Anti Theft Number Lock Backpack Bag with 15.6 Inch Laptop Compartment, USB Charging Port & Organizer Pocket for Men Women Boys Girls',\n",
              "  'ADISA 31 Ltrs Casual Backpack School College Bag Pack',\n",
              "  'Gear Classic 20L Small Size Faux Leather Water Resistant Anti Theft Unisex Laptop Backpack- Brown',\n",
              "  'Best sellerin Rucksacks & Trekking Backpacks',\n",
              "  'Fur Jaden 55 LTR Rucksack Travel Backpack Bag for Trekking, Hiking with Shoe Compartment',\n",
              "  'Safari Flash Casual Backpack, 26 ltr Water Resistant Travel Bags| Weight Polyester Bagpack for Men and Women, Spacious Shoulder Bag for College, Office, Travelling and Camping'],\n",
              " 'rule_de6a': ['Skybags Brat Black 46 Cms Casual Backpack',\n",
              "  'American Tourister Fizz Large Size 32 Ltrs Casual Backpack (BLACK)',\n",
              "  'Half Moon 35 Ltrs Water Resistant 15.6 inch Laptop Bag for Men/Backpack for Men, Navy Blue | Office Bag for Men/Office Bag...',\n",
              "  'Wesley Milestone 2.0 Casual Waterproof Laptop Backpack/Office Bag/School Bag/College Bag/Business Bag/Travel Backpack (Dim...',\n",
              "  'TRUE HUMAN EMPEROR® Anti-Theft backpack With USB charging Port Laptop bag/Office bag/college bag/travel bag with anti -the...',\n",
              "  'FUR JADEN Anti Theft Number Lock Backpack Bag with 15.6 Inch Laptop Compartment, USB Charging Port & Organizer Pocket for ...',\n",
              "  'Half Moon Large 37L Laptop Bag Backpack for menं Women Boys and Girls Luggage Travel Bags with 17.3 inches Laptop Compartm...',\n",
              "  'WILDHORN 31L Laptop Backpack for Men/Women I Fits upto 15.6',\n",
              "  'Red Lemon Swisslook Polyester Bange Series 45L 15.6-inch Laptop Bags Backpack for Men and Women Semi Waterproof USB with A...',\n",
              "  'American Tourister VALEX BLACK LAPTOP BACKPACK 28 Ltrs,Volume, LAPTOP COMPARTMENT, BOTTLE POCKET, FRONT ORGANIZER',\n",
              "  'Gear Cello 30 Ltrs Black Laptop Backpack (LBPASPIRE0104)',\n",
              "  'FUR JADEN Anti Theft Number Lock Backpack Bag with 15.6 Inch Laptop Compartment, USB Charging Port & Organizer Pocket for ...',\n",
              "  'ADISA 31 Ltrs Casual Backpack School College Bag Pack',\n",
              "  'Gear Classic 20L Small Size Faux Leather Water Resistant Anti Theft Unisex Laptop Backpack- Brown',\n",
              "  'Fur Jaden 55 LTR Rucksack Travel Backpack Bag for Trekking, Hiking with Shoe Compartment',\n",
              "  'Safari Flash Casual Backpack, 26 ltr Water Resistant Travel Bags| Weight Polyester Bagpack for Men and Women, Spacious Sho...'],\n",
              " 'rule_d01s': ['5,308',\n",
              "  '54,967',\n",
              "  '16,710',\n",
              "  '12,003',\n",
              "  '2,366',\n",
              "  '5,056',\n",
              "  '3,311',\n",
              "  '1,490',\n",
              "  '1,725',\n",
              "  '651',\n",
              "  '5,992',\n",
              "  '5,056',\n",
              "  '154',\n",
              "  '5,962',\n",
              "  '5,515',\n",
              "  '3,028']}"
            ]
          },
          "metadata": {},
          "execution_count": 13
        }
      ]
    },
    {
      "cell_type": "code",
      "source": [],
      "metadata": {
        "id": "chcy10Ax6miL"
      },
      "execution_count": null,
      "outputs": []
    }
  ]
}