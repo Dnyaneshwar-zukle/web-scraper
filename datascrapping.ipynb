{
  "nbformat": 4,
  "nbformat_minor": 0,
  "metadata": {
    "colab": {
      "provenance": [],
      "include_colab_link": true
    },
    "kernelspec": {
      "name": "python3",
      "display_name": "Python 3"
    },
    "language_info": {
      "name": "python"
    }
  },
  "cells": [
    {
      "cell_type": "markdown",
      "metadata": {
        "id": "view-in-github",
        "colab_type": "text"
      },
      "source": [
        "<a href=\"https://colab.research.google.com/github/Dnyaneshwar-zukle/web-scraper/blob/main/datascrapping.ipynb\" target=\"_parent\"><img src=\"https://colab.research.google.com/assets/colab-badge.svg\" alt=\"Open In Colab\"/></a>"
      ]
    },
    {
      "cell_type": "code",
      "execution_count": null,
      "metadata": {
        "id": "PSpFgdzX5WZP"
      },
      "outputs": [],
      "source": [
        "import requests\n",
        "urlvariable= requests.get(\"http://www.imdb.com/search/title?sort=num_votes,desc&start=1&title_type=feature&year=1950,2012\")"
      ]
    },
    {
      "cell_type": "code",
      "source": [
        "import bs4\n",
        "scraping=bs4.BeautifulSoup (urlvariable.text,\"lxml\")"
      ],
      "metadata": {
        "id": "LcCkgU-o8tBr"
      },
      "execution_count": null,
      "outputs": []
    },
    {
      "cell_type": "code",
      "source": [
        "object=scraping.find_all(\"div\",class_=\"lister-item mode-advanced\")"
      ],
      "metadata": {
        "id": "qu7OaVvS--kK"
      },
      "execution_count": null,
      "outputs": []
    },
    {
      "cell_type": "code",
      "source": [
        "print(len(object))"
      ],
      "metadata": {
        "colab": {
          "base_uri": "https://localhost:8080/"
        },
        "id": "5vUH0Jg6_wu1",
        "outputId": "d3389bf4-20c4-4cce-c599-1a6e04342a71"
      },
      "execution_count": null,
      "outputs": [
        {
          "output_type": "stream",
          "name": "stdout",
          "text": [
            "50\n"
          ]
        }
      ]
    },
    {
      "cell_type": "code",
      "source": [
        "Duration=[]\n",
        "Releasedyear=[]\n",
        "Moviename=[]\n",
        "for i in object:\n",
        "    Run=i.find(\"span\",class_=\"runtime\")\n",
        "    Duration.append(Run.string)\n",
        "    year=i.find(\"span\",class_=\"lister-item-year\")\n",
        "    Releasedyear.append(year.string)\n",
        "    Movie=i.find(\"img\")[\"alt\"]\n",
        "    Moviename.append(Movie)"
      ],
      "metadata": {
        "id": "Z4OjrLUvA7ib"
      },
      "execution_count": null,
      "outputs": []
    },
    {
      "cell_type": "code",
      "source": [
        "import pandas as pd\n",
        "structure = pd.DataFrame({\"Movies\":Moviename,\"Durationtime\":Duration,\"Releasedon\":Releasedyear})\n",
        "print(structure)"
      ],
      "metadata": {
        "colab": {
          "base_uri": "https://localhost:8080/"
        },
        "id": "uz15uNTnTvPf",
        "outputId": "e4f29349-8d52-4876-b179-f4460107790f"
      },
      "execution_count": null,
      "outputs": [
        {
          "output_type": "stream",
          "name": "stdout",
          "text": [
            "                                               Movies Durationtime Releasedon\n",
            "0                            The Shawshank Redemption      142 min     (1994)\n",
            "1                                     The Dark Knight      152 min     (2008)\n",
            "2                                           Inception      148 min     (2010)\n",
            "3                                          Fight Club      139 min     (1999)\n",
            "4                                        Forrest Gump      142 min     (1994)\n",
            "5                                        Pulp Fiction      154 min     (1994)\n",
            "6                                          The Matrix      136 min     (1999)\n",
            "7                                       The Godfather      175 min     (1972)\n",
            "8   The Lord of the Rings: The Fellowship of the Ring      178 min     (2001)\n",
            "9       The Lord of the Rings: The Return of the King      201 min     (2003)\n",
            "10                              The Dark Knight Rises      164 min     (2012)\n",
            "11              The Lord of the Rings: The Two Towers      179 min     (2002)\n",
            "12                                              Se7en      127 min     (1995)\n",
            "13                                   Django Unchained      165 min     (2012)\n",
            "14                                          Gladiator      155 min     (2000)\n",
            "15                                      Batman Begins      140 min     (2005)\n",
            "16                               Inglourious Basterds      153 min     (2009)\n",
            "17                           The Silence of the Lambs      118 min     (1991)\n",
            "18                                Saving Private Ryan      169 min     (1998)\n",
            "19                                       The Avengers      143 min     (2012)\n",
            "20                 Star Wars: Episode IV - A New Hope      121 min     (1977)\n",
            "21                                   Schindler's List      195 min     (1993)\n",
            "22                                       The Prestige      130 min     (2006)\n",
            "23                                     Shutter Island      138 min     (2010)\n",
            "24                                       The Departed      151 min     (2006)\n",
            "25                                             Avatar      162 min     (2009)\n",
            "26                                     The Green Mile      189 min     (1999)\n",
            "27     Star Wars: Episode V - The Empire Strikes Back      124 min     (1980)\n",
            "28                              The Godfather Part II      202 min     (1974)\n",
            "29                                            Memento      113 min     (2000)\n",
            "30                                 Back to the Future      116 min     (1985)\n",
            "31                                            Titanic      194 min     (1997)\n",
            "32                                         Goodfellas      145 min     (1990)\n",
            "33                             Léon: The Professional      110 min     (1994)\n",
            "34                                    American Beauty      122 min     (1999)\n",
            "35  Pirates of the Caribbean: The Curse of the Bla...      143 min     (2003)\n",
            "36                                             WALL·E       98 min     (2008)\n",
            "37                                 American History X      119 min     (1998)\n",
            "38                                  Kill Bill: Vol. 1      111 min     (2003)\n",
            "39                                     V for Vendetta      132 min     (2005)\n",
            "40                         Terminator 2: Judgment Day      137 min     (1991)\n",
            "41                                    The Truman Show      103 min     (1998)\n",
            "42                                 The Usual Suspects      106 min     (1995)\n",
            "43                                      The Lion King       88 min     (1994)\n",
            "44                                           Iron Man      126 min     (2008)\n",
            "45         Star Wars: Episode VI - Return of the Jedi      131 min     (1983)\n",
            "46                                                 Up       96 min     (2009)\n",
            "47                                       Finding Nemo      100 min     (2003)\n",
            "48                                         Braveheart      178 min     (1995)\n",
            "49                                        The Shining      146 min     (1980)\n"
          ]
        }
      ]
    },
    {
      "cell_type": "code",
      "source": [],
      "metadata": {
        "id": "THIYn3QHT2IB"
      },
      "execution_count": null,
      "outputs": []
    }
  ]
}